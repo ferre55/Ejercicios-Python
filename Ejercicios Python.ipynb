{
 "cells": [
  {
   "cell_type": "markdown",
   "id": "473824d3",
   "metadata": {},
   "source": [
    "Introducción a Python\n",
    "A lo largo de este cuaderno explicaremos algunos conceptos básicos de Python. Los temas específicos que cubriremos en estos cuadernos introductorios son los siguientes:\n",
    "\n",
    "¿Qué es Python?\n",
    "Objetos avanzados: Listas y diccionarios\n",
    "Empaquetando código - Funciones\n",
    "Planteamiento del problema:\n",
    "Imagina que queremos crear un directorio que contenga toda la información de los estudiantes de nuestro club. Para ello, necesitaremos construir paso a paso la idea completa del proyecto.\n",
    "\n",
    "Para ello, necesitamos saber sobre tipos de variables, objetos avanzados como listas y diccionarios, cómo crear funciones para operar algunos valores y cómo crear nuevos objetos."
   ]
  },
  {
   "cell_type": "markdown",
   "id": "d7c87b38",
   "metadata": {},
   "source": [
    "Ejemplo 5\n",
    "Función ValidarFecha: Recibe un día, mes y año correspondiente a una fecha y devuelve si la fecha es correcta o no. Simplemente miramos si el día indicado es mayor que 1 y menor que los días del mes. Si introducimos un mes incorrecto, la función DiasDelMes devuelve 0 por lo tanto la fecha va a ser incorrecta. Parámetros de entrada: día, mes y año\n",
    "Dato devuelto: Valor lógico indicando si es correcta (Verdadero) o no (Falso)"
   ]
  },
  {
   "cell_type": "code",
   "execution_count": 3,
   "id": "7c89396f",
   "metadata": {},
   "outputs": [
    {
     "name": "stdout",
     "output_type": "stream",
     "text": [
      "Ingresa el día:1\n",
      "Mes:2\n",
      "Año:2000\n"
     ]
    },
    {
     "data": {
      "text/plain": [
       "True"
      ]
     },
     "execution_count": 3,
     "metadata": {},
     "output_type": "execute_result"
    }
   ],
   "source": [
    "#Ejemplo 5\n",
    "def ValidarFecha(dia,mes,año):\n",
    "    mes31 = (1,3,5,7,8,10,12)\n",
    "    mes30 = (4,6,9,11)\n",
    "    dia = DiaDelMes (dia,mes)\n",
    "    correcto = False\n",
    "    if mes in mes31:\n",
    "        if(dia>= 1 and dia<= 31):\n",
    "            correcto = True\n",
    "    elif mes == 2:\n",
    "        if(dia>=1 and dia<=28):\n",
    "            correcto = True\n",
    "    return correcto\n",
    "\n",
    "def DiaDelMes (dia,mes):\n",
    "    if (mes<= 0 and mes >12):\n",
    "        return 0\n",
    "    else:\n",
    "        return dia\n",
    "\n",
    "dia,mes,año = int(input('Ingresa el día:')), int(input('Mes:')), int(input('Año:'))\n",
    "ValidarFecha(dia,mes,año)\n"
   ]
  },
  {
   "cell_type": "markdown",
   "id": "7f66b3f7",
   "metadata": {},
   "source": [
    "\n",
    "¡A resolver el reto!\n",
    "Vamos a prodecer a crear una lista de diccionarios, esto es, un directorio de estudiantes de SKILLS FOR WOMEN IN TECH que participarán en una edición en línea.\n",
    "\n",
    "Cada estudiante debe tener los siguientes atributos:\n",
    "\n",
    "Nombre\n",
    "Edad\n",
    "Temas\n",
    "Menores de edad\n",
    "Puedes asignar los datos a mano o utilizar funciones aleatorias para llenar los campos."
   ]
  },
  {
   "cell_type": "code",
   "execution_count": null,
   "id": "e63817d6",
   "metadata": {},
   "outputs": [],
   "source": [
    "from posixpath import split\n",
    "from pprint import pprint\n",
    "padawans=[]\n",
    "\n",
    "def registrationPadawans(name,lastname,age,subjects):\n",
    "    subjects= subjects.lower().split(\", \")\n",
    "    legalAge= True if age >= 18 else False\n",
    "    try:\n",
    "        padawans.append({\"name\":name, \"lastname\":lastname, \"age\":age, \"subjects\":subjects})\n",
    "    except:\n",
    "        return \"Data were not added\"\n",
    "    return \"\\n\\n SUCCESSFUL REGISTRATION!\\n\"\n",
    "\n",
    "\n",
    "while True:\n",
    "    print('Sign up! Padawan Directory')\n",
    "    print(\"1.Add student\")\n",
    "    print(\"2.View directory\") \n",
    "    print(\"3.Exit\")\n",
    "    \n",
    "    opcion = int(input()) \n",
    "    if opcion == 1:\n",
    "        name = str(input(\"Enter student name:\"))\n",
    "        lastnameo= str(input(\"Enter last name:\"))\n",
    "        age = int(input(\"Enter age:\"))\n",
    "        if age>=18:\n",
    "            print('\\nYou are of legal age\\n')\n",
    "        else:\n",
    "            print('\\nYou are under age\\n')\n",
    "        print(\"Subjects available son:Python,JavaScript,Java\")\n",
    "        subjects = str(input(\"Enter the subjects of your choice:\"))\n",
    "        print(registrationPadawans(name,lastname,age,subjects),\"\\n\\n\")\n",
    "    elif opcion == 2:\n",
    "        print(padawans)\n",
    "\n",
    "    elif opcion == 3:\n",
    "        print(\"\\nByeee\")\n",
    "        break\n",
    "    else:\n",
    "        break\n"
   ]
  },
  {
   "cell_type": "code",
   "execution_count": null,
   "id": "7ff6207c",
   "metadata": {},
   "outputs": [],
   "source": [
    "#Ejemplo 5\n",
    "def ValidarFecha(dia,mes,año):\n",
    "    mes31 = (1,3,5,7,8,10,12)\n",
    "    mes30 = (4,6,9,11)\n",
    "    dia = DiaDelMes (dia,mes)\n",
    "    correcto = False\n",
    "    if mes in mes31:\n",
    "        if(dia>= 1 and dia<= 31):\n",
    "            correcto = True\n",
    "    elif mes == 2:\n",
    "        if(dia>=1 and dia<=28):\n",
    "            correcto = True\n",
    "    return correcto\n",
    "\n",
    "def DiaDelMes (dia,mes):\n",
    "    if (mes<= 0 and mes >12):\n",
    "        return 0\n",
    "    else:\n",
    "        return dia\n",
    "\n",
    "dia,mes,año = int(input('Ingresa el día:')), int(input('Mes:')), int(input('Año:'))\n",
    "ValidarFecha(dia,mes,año)\n",
    "\n",
    "\n"
   ]
  },
  {
   "cell_type": "code",
   "execution_count": null,
   "id": "a18fce3f",
   "metadata": {},
   "outputs": [],
   "source": []
  },
  {
   "cell_type": "code",
   "execution_count": null,
   "id": "377e3466",
   "metadata": {},
   "outputs": [],
   "source": []
  }
 ],
 "metadata": {
  "kernelspec": {
   "display_name": "Python 3 (ipykernel)",
   "language": "python",
   "name": "python3"
  },
  "language_info": {
   "codemirror_mode": {
    "name": "ipython",
    "version": 3
   },
   "file_extension": ".py",
   "mimetype": "text/x-python",
   "name": "python",
   "nbconvert_exporter": "python",
   "pygments_lexer": "ipython3",
   "version": "3.9.7"
  }
 },
 "nbformat": 4,
 "nbformat_minor": 5
}
